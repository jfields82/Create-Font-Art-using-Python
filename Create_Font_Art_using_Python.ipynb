{
  "cells": [
    {
      "cell_type": "markdown",
      "metadata": {
        "id": "view-in-github",
        "colab_type": "text"
      },
      "source": [
        "<a href=\"https://colab.research.google.com/github/jfields82/Create-Font-Art-using-Python/blob/master/Create_Font_Art_using_Python.ipynb\" target=\"_parent\"><img src=\"https://colab.research.google.com/assets/colab-badge.svg\" alt=\"Open In Colab\"/></a>"
      ]
    },
    {
      "cell_type": "markdown",
      "id": "1877d3d0",
      "metadata": {
        "id": "1877d3d0"
      },
      "source": [
        "# Create Font Art using Python"
      ]
    },
    {
      "cell_type": "code",
      "execution_count": null,
      "id": "2c812c8b",
      "metadata": {
        "id": "2c812c8b",
        "outputId": "fa5bd6e5-3708-4b7b-a282-8678230ace91"
      },
      "outputs": [
        {
          "name": "stdout",
          "output_type": "stream",
          "text": [
            " ____        _   _                    ____          _ _             \n",
            "|  _ \\ _   _| |_| |__   ___  _ __    / ___|___   __| (_)_ __   __ _ \n",
            "| |_) | | | | __| '_ \\ / _ \\| '_ \\  | |   / _ \\ / _` | | '_ \\ / _` |\n",
            "|  __/| |_| | |_| | | | (_) | | | | | |__| (_) | (_| | | | | | (_| |\n",
            "|_|    \\__, |\\__|_| |_|\\___/|_| |_|  \\____\\___/ \\__,_|_|_| |_|\\__, |\n",
            "       |___/                                                  |___/ \n",
            "\n"
          ]
        }
      ],
      "source": [
        "import pyfiglet\n",
        "font = pyfiglet.figlet_format('Python Coding Art')\n",
        "print(font)"
      ]
    },
    {
      "cell_type": "code",
      "execution_count": null,
      "id": "1f32d0fd",
      "metadata": {
        "id": "1f32d0fd"
      },
      "outputs": [],
      "source": [
        ""
      ]
    }
  ],
  "metadata": {
    "kernelspec": {
      "display_name": "Python 3 (ipykernel)",
      "language": "python",
      "name": "python3"
    },
    "language_info": {
      "codemirror_mode": {
        "name": "ipython",
        "version": 3
      },
      "file_extension": ".py",
      "mimetype": "text/x-python",
      "name": "python",
      "nbconvert_exporter": "python",
      "pygments_lexer": "ipython3",
      "version": "3.9.7"
    },
    "colab": {
      "name": "Create_Font_Art_using_Python.ipynb",
      "provenance": [],
      "collapsed_sections": [],
      "include_colab_link": true
    }
  },
  "nbformat": 4,
  "nbformat_minor": 5
}